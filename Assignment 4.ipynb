{
 "cells": [
  {
   "cell_type": "code",
   "execution_count": 2,
   "id": "bc8db3b2",
   "metadata": {},
   "outputs": [
    {
     "name": "stdout",
     "output_type": "stream",
     "text": [
      "Enter first value: 45\n",
      "Enter second value: 65\n",
      "Choose the Operation: 1.Addition(+) 2.Subtraction(-) 3.Multiplication(*) 4.Division(/) 5.Power(^)*\n",
      "45  *  65  =  2925\n"
     ]
    }
   ],
   "source": [
    "# 1. Make a calculator using Python with addition , subtraction , multiplication ,division and power.\n",
    "\n",
    "a = int(input(\"Enter first value: \"))\n",
    "b = int(input(\"Enter second value: \"))\n",
    "\n",
    "op = input(\"Choose the Operation: 1.Addition(+) 2.Subtraction(-) 3.Multiplication(*) 4.Division(/) 5.Power(^)\")\n",
    "\n",
    "if op == '+':\n",
    "    \n",
    "    ans = a + b\n",
    "    print(a,\" + \", b,\" = \",ans)\n",
    "    \n",
    "if op == '-':\n",
    "    ans = a - b\n",
    "    print(a,\" - \", b,\" = \",ans)\n",
    "    \n",
    "if op == '*':\n",
    "    ans = a * b\n",
    "    print(a,\" * \", b,\" = \",ans)\n",
    "    \n",
    "if op == '/':\n",
    "    ans = a / b\n",
    "    print(a,\" / \", b,\" = \",ans)\n",
    "    \n",
    "if op == '^':\n",
    "    ans = a ** b\n",
    "    print(a,\" ^ \", b,\" = \",ans)"
   ]
  },
  {
   "cell_type": "code",
   "execution_count": 3,
   "id": "2e865bf0",
   "metadata": {},
   "outputs": [
    {
     "name": "stdout",
     "output_type": "stream",
     "text": [
      "Numeric value in list are: \n",
      "56\n",
      "76\n"
     ]
    }
   ],
   "source": [
    "# 2. Write a program to check if there is any numeric value in list using for loop.\n",
    "\n",
    "myList = [\"Arbeena\", \"Sara\", \"WD\", 56, \"IBA\", 76, \"Karachi\"];\n",
    "x = 0\n",
    "num = type(x)\n",
    "print(\"Numeric value in list are: \");\n",
    "for i in myList:\n",
    "    m = type(i)\n",
    "    if m == num:\n",
    "        print(i)\n",
    "    else:\n",
    "        continue"
   ]
  },
  {
   "cell_type": "code",
   "execution_count": 4,
   "id": "7f9294a2",
   "metadata": {},
   "outputs": [
    {
     "data": {
      "text/plain": [
       "{'a': 6, 'b': 23, 'c': 76, 'd': 15}"
      ]
     },
     "execution_count": 4,
     "metadata": {},
     "output_type": "execute_result"
    }
   ],
   "source": [
    "# 3. Write a Python script to add a key to a dictionary.\n",
    "\n",
    "my_dict = {'a': 6, 'b':23, 'c':76}\n",
    "\n",
    "my_dict[\"d\"] = 15  #Add a key to a dictionary\n",
    "\n",
    "my_dict"
   ]
  },
  {
   "cell_type": "code",
   "execution_count": 5,
   "id": "de3d6c2c",
   "metadata": {},
   "outputs": [
    {
     "name": "stdout",
     "output_type": "stream",
     "text": [
      "Sum of Numeric Items is:  265\n"
     ]
    }
   ],
   "source": [
    "# 4. Write a Python program to sum all the numeric items in a dictionary.\n",
    "\n",
    "my_dict = {'a': 45, 'b':60, 'c':70, 'd':50, 'e':40}\n",
    "\n",
    "print(\"Sum of Numeric Items is: \", sum(my_dict.values()))"
   ]
  },
  {
   "cell_type": "code",
   "execution_count": 12,
   "id": "4468e060",
   "metadata": {},
   "outputs": [
    {
     "name": "stdout",
     "output_type": "stream",
     "text": [
      "Duplicate values are:  [11, 55, 'Arbeena']\n"
     ]
    }
   ],
   "source": [
    "# 5. Write a program to identify duplicate values from list.\n",
    "\n",
    "newList = [11, 23, 67, 55, 66, \"Arbeena\", 44, 33, 22, 55, 11, 45, \"Arbeena\"];\n",
    "repeated = []\n",
    "\n",
    "for i in newList:\n",
    "    a = newList.count(i)\n",
    "    if a > 1:\n",
    "        if i in repeated:\n",
    "            continue\n",
    "        else:\n",
    "            repeated.append(i)\n",
    "            \n",
    "print(\"Duplicate values are: \",repeated)"
   ]
  },
  {
   "cell_type": "code",
   "execution_count": 11,
   "id": "113bc563",
   "metadata": {},
   "outputs": [
    {
     "name": "stdout",
     "output_type": "stream",
     "text": [
      "Enter key to check existence: 45\n",
      "The key: 45 is not exist\n"
     ]
    }
   ],
   "source": [
    "# 6. Write a Python script to check if a given key already exists in a dictionary.\n",
    "\n",
    "student = {'Name': 'Arbeena', 'Rollno': '12345', 'Course': 'Python', 'Age': 23, 'City': 'Karachi', 'Country': 'Pakistan'}\n",
    "\n",
    "key_to_check = input(\"Enter key to check existence: \");\n",
    "\n",
    "if key_to_check in student.keys():\n",
    "    print(\"The key: \" + key_to_check + \" is already exist\")\n",
    "else:\n",
    "    print(\"The key: \" + key_to_check + \" is not exist\")"
   ]
  },
  {
   "cell_type": "code",
   "execution_count": null,
   "id": "5168cc02",
   "metadata": {},
   "outputs": [],
   "source": []
  }
 ],
 "metadata": {
  "kernelspec": {
   "display_name": "Python 3",
   "language": "python",
   "name": "python3"
  },
  "language_info": {
   "codemirror_mode": {
    "name": "ipython",
    "version": 3
   },
   "file_extension": ".py",
   "mimetype": "text/x-python",
   "name": "python",
   "nbconvert_exporter": "python",
   "pygments_lexer": "ipython3",
   "version": "3.8.8"
  }
 },
 "nbformat": 4,
 "nbformat_minor": 5
}
