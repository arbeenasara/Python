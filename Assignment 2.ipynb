{
 "cells": [
  {
   "cell_type": "code",
   "execution_count": 1,
   "id": "b0d18c1a",
   "metadata": {},
   "outputs": [
    {
     "name": "stdout",
     "output_type": "stream",
     "text": [
      "Enter Your Name: Arbeena\n",
      "Enter Class: 12\n",
      "Enter English marks: 78\n",
      "Enter Islamiat marks: 87\n",
      "Enter Maths marks: 56\n",
      "\n",
      "---------- Marksheet ----------\n",
      "\n",
      "Name: Arbeena\n",
      "Class: 12\n",
      "Total marks: 300\n",
      "Obtained marks: 221\n",
      "Your Percentage is: 73.66666666666667%\n",
      "Grade: A\n"
     ]
    }
   ],
   "source": [
    "name = input(\"Enter Your Name: \");\n",
    "clas = int(input(\"Enter Class: \"));\n",
    "eng = int(input(\"Enter English marks: \"));\n",
    "isl = int(input(\"Enter Islamiat marks: \"));\n",
    "math = int(input(\"Enter Maths marks: \"));\n",
    "\n",
    "obtained_marks = eng + isl + math;\n",
    "percentage = obtained_marks / 300 * 100;\n",
    "\n",
    "print();\n",
    "\n",
    "print(\"---------- Marksheet ----------\");\n",
    "\n",
    "print();\n",
    "\n",
    "print(\"Name: \" + name);\n",
    "print(\"Class: \" + str(clas));\n",
    "print(\"Total marks: 300\");\n",
    "print(\"Obtained marks: \" + str(obtained_marks));\n",
    "print(\"Your Percentage is: \" + str(percentage) + \"%\");\n",
    "\n",
    "if percentage >= 80:\n",
    "    print(\"Grade: A+\");\n",
    "    \n",
    "elif percentage >= 70:\n",
    "    print(\"Grade: A\");\n",
    "    \n",
    "elif percentage >= 60:\n",
    "    print(\"Grade: B\");\n",
    "    \n",
    "elif percentage >= 50:\n",
    "    print(\"Grade: C\");\n",
    "    \n",
    "elif percentage >= 45:\n",
    "    print(\"Grade: D\");\n",
    "\n",
    "else:\n",
    "    print(\"Grade: F (Fail)\");"
   ]
  },
  {
   "cell_type": "code",
   "execution_count": null,
   "id": "69dd6e6c",
   "metadata": {},
   "outputs": [],
   "source": []
  }
 ],
 "metadata": {
  "kernelspec": {
   "display_name": "Python 3",
   "language": "python",
   "name": "python3"
  },
  "language_info": {
   "codemirror_mode": {
    "name": "ipython",
    "version": 3
   },
   "file_extension": ".py",
   "mimetype": "text/x-python",
   "name": "python",
   "nbconvert_exporter": "python",
   "pygments_lexer": "ipython3",
   "version": "3.8.8"
  }
 },
 "nbformat": 4,
 "nbformat_minor": 5
}
