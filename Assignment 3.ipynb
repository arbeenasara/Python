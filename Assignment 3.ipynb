{
 "cells": [
  {
   "cell_type": "code",
   "execution_count": 3,
   "id": "b7f9b113",
   "metadata": {},
   "outputs": [
    {
     "name": "stdout",
     "output_type": "stream",
     "text": [
      "\n",
      "Twinkle, twinkle, little star,\n",
      "    How I wonder what you are!\n",
      "        Up above the world so high,\n",
      "        Like a diamond in the sky.\n",
      "Twinkle, twinkle, little star,\n",
      "    How I wonder what you are\n",
      "\n"
     ]
    }
   ],
   "source": [
    "# 1. Write a Python program to print the following string in a specific format\n",
    "\n",
    "poem = \"\"\"\n",
    "Twinkle, twinkle, little star,\n",
    "    How I wonder what you are!\n",
    "        Up above the world so high,\n",
    "        Like a diamond in the sky.\n",
    "Twinkle, twinkle, little star,\n",
    "    How I wonder what you are\n",
    "\"\"\"\n",
    "print(poem)"
   ]
  },
  {
   "cell_type": "code",
   "execution_count": 4,
   "id": "f3614db4",
   "metadata": {},
   "outputs": [
    {
     "data": {
      "text/plain": [
       "'3.8.8 (default, Apr 13 2021, 15:08:03) [MSC v.1916 64 bit (AMD64)]'"
      ]
     },
     "execution_count": 4,
     "metadata": {},
     "output_type": "execute_result"
    }
   ],
   "source": [
    "# 2. Write a Python program to get the Python version you are using\n",
    "\n",
    "import sys\n",
    "sys.version"
   ]
  },
  {
   "cell_type": "code",
   "execution_count": 5,
   "id": "152e2382",
   "metadata": {
    "scrolled": true
   },
   "outputs": [
    {
     "name": "stdout",
     "output_type": "stream",
     "text": [
      "24/October/202116:47:18\n"
     ]
    }
   ],
   "source": [
    "# 3. Write a Python program to display the current date and time.\n",
    "\n",
    "import datetime\n",
    "time = datetime.datetime.now()\n",
    "print(time.strftime(\"%d/%B/%Y%H:%M:%S\"))"
   ]
  },
  {
   "cell_type": "code",
   "execution_count": 1,
   "id": "a5e941e0",
   "metadata": {
    "scrolled": true
   },
   "outputs": [
    {
     "name": "stdout",
     "output_type": "stream",
     "text": [
      "Enter value of radius:12\n",
      "Area of given radius is: 118.465968\n"
     ]
    }
   ],
   "source": [
    "# 4. Write a Python program which accepts the radius of a circle from the user and compute the area.\n",
    "\n",
    "radius = int(input(\"Enter value of radius:\"))\n",
    "pi = 3.142\n",
    "Area = radius*(pi*pi)\n",
    "print(\"Area of given radius is:\" , Area)"
   ]
  },
  {
   "cell_type": "code",
   "execution_count": 3,
   "id": "1a146054",
   "metadata": {},
   "outputs": [
    {
     "name": "stdout",
     "output_type": "stream",
     "text": [
      "Enter First name: Arbeena Sara\n",
      "Enter Last name: Faizan\n",
      "naziaF araS aneebrA\n"
     ]
    }
   ],
   "source": [
    "# 5. Write a Python program which accepts the user's first and last name and print them in reverse order with a space between them.\n",
    "\n",
    "First_name = input(\"Enter First name: \")\n",
    "Last_name = input(\"Enter Last name: \")\n",
    "Full_name = First_name + \" \" + Last_name\n",
    "print(Full_name[::-1])"
   ]
  },
  {
   "cell_type": "code",
   "execution_count": 5,
   "id": "3ab97c0c",
   "metadata": {},
   "outputs": [
    {
     "name": "stdout",
     "output_type": "stream",
     "text": [
      "Enter value 01: 45\n",
      "Enter value 02: 54\n"
     ]
    },
    {
     "data": {
      "text/plain": [
       "99"
      ]
     },
     "execution_count": 5,
     "metadata": {},
     "output_type": "execute_result"
    }
   ],
   "source": [
    "# 6. Write a python program which takes two inputs from user and print them addition\n",
    "\n",
    "x = int(input(\"Enter value 01: \"))\n",
    "y = int(input(\"Enter value 02: \"))\n",
    "sum = x + y\n",
    "sum"
   ]
  },
  {
   "cell_type": "code",
   "execution_count": 6,
   "id": "11def92e",
   "metadata": {},
   "outputs": [
    {
     "name": "stdout",
     "output_type": "stream",
     "text": [
      "Enter Your Name: Arbeena\n",
      "Enter Class: 12\n",
      "Enter English marks: 56\n",
      "Enter Islamiat marks: 78\n",
      "Enter Maths marks: 98\n",
      "Enter Urdu marks: 89\n",
      "Enter Science marks: 76\n",
      "\n",
      "---------- Marksheet ----------\n",
      "\n",
      "Name: Arbeena\n",
      "Class: 12\n",
      "Total marks: 500\n",
      "Obtained marks: 397\n",
      "Your Percentage is: 79.4%\n",
      "Grade: A\n"
     ]
    }
   ],
   "source": [
    "# 7. Write a program which takes 5 inputs from user for different subject’s marks, total it and generate mark sheet using grades ?\n",
    "\n",
    "name = input(\"Enter Your Name: \");\n",
    "clas = int(input(\"Enter Class: \"));\n",
    "eng = int(input(\"Enter English marks: \"));\n",
    "isl = int(input(\"Enter Islamiat marks: \"));\n",
    "math = int(input(\"Enter Maths marks: \"));\n",
    "urdu = int(input(\"Enter Urdu marks: \"));\n",
    "sci = int(input(\"Enter Science marks: \"));\n",
    "obtained_marks = eng + isl + math + urdu + sci;\n",
    "percentage = obtained_marks / 500 * 100;\n",
    "\n",
    "print();\n",
    "\n",
    "print(\"---------- Marksheet ----------\");\n",
    "\n",
    "print();\n",
    "\n",
    "print(\"Name: \" + name);\n",
    "print(\"Class: \" + str(clas));\n",
    "print(\"Total marks: 500\");\n",
    "print(\"Obtained marks: \" + str(obtained_marks));\n",
    "print(\"Your Percentage is: \" + str(percentage) + \"%\");\n",
    "\n",
    "if percentage >= 80:\n",
    "    print(\"Grade: A+\");\n",
    "    \n",
    "elif percentage >= 70:\n",
    "    print(\"Grade: A\");\n",
    "    \n",
    "elif percentage >= 60:\n",
    "    print(\"Grade: B\");\n",
    "    \n",
    "elif percentage >= 50:\n",
    "    print(\"Grade: C\");\n",
    "    \n",
    "elif percentage >= 45:\n",
    "    print(\"Grade: D\");\n",
    "\n",
    "else:\n",
    "    print(\"Grade: F (Fail)\");"
   ]
  },
  {
   "cell_type": "code",
   "execution_count": 10,
   "id": "7f81be98",
   "metadata": {},
   "outputs": [
    {
     "name": "stdout",
     "output_type": "stream",
     "text": [
      "Enter the number: 6\n",
      "The given number is even!\n"
     ]
    }
   ],
   "source": [
    "# 8. Write a program which take input from user and identify that the given number is even or odd?\n",
    "\n",
    "num = int(input(\"Enter the number: \"))\n",
    "if (num % 2) == 0:\n",
    "    print(\"The given number is even!\")\n",
    "else:\n",
    "    print(\"The given number is odd!\")"
   ]
  },
  {
   "cell_type": "code",
   "execution_count": 11,
   "id": "17c49fc3",
   "metadata": {},
   "outputs": [
    {
     "name": "stdout",
     "output_type": "stream",
     "text": [
      "Length of list is:  12\n"
     ]
    }
   ],
   "source": [
    "# 9. Write a program which print the length of the list?\n",
    "\n",
    "a = [0, 1, 2, 3, 4, 5, 6, 7, 8, 9, 10, 11]\n",
    "print(\"Length of list is: \", len(a))"
   ]
  },
  {
   "cell_type": "code",
   "execution_count": 24,
   "id": "039fc8e7",
   "metadata": {},
   "outputs": [],
   "source": [
    "# 10. Write a Python program to sum all the numeric items in a list?\n",
    "\n",
    "b = [4, 6, 8, 5]\n",
    "print(\"Total sum of list is: \", sum(b));"
   ]
  },
  {
   "cell_type": "code",
   "execution_count": 26,
   "id": "d15a3de3",
   "metadata": {},
   "outputs": [
    {
     "name": "stdout",
     "output_type": "stream",
     "text": [
      "Largest number of list is:  18\n"
     ]
    }
   ],
   "source": [
    "# 11. Write a Python program to get the largest number from a numeric list.\n",
    "\n",
    "a = [2, 6, 8, 3, 10, 1, 5, 18]\n",
    "print(\"Largest number of list is: \", max(a))"
   ]
  },
  {
   "cell_type": "code",
   "execution_count": 29,
   "id": "67baa249",
   "metadata": {},
   "outputs": [
    {
     "name": "stdout",
     "output_type": "stream",
     "text": [
      "Numbers which are less than 5 in list are: \n",
      "0\n",
      "1\n",
      "4\n",
      "3\n"
     ]
    }
   ],
   "source": [
    "# 12. Write a program that prints out all the elements of the list that are less than 5.\n",
    "\n",
    "a = [0, 1, 4, 6, 7, 3, 9]\n",
    "print(\"Numbers which are less than 5 in list are: \")\n",
    "\n",
    "for i in a:\n",
    "    \n",
    "    if i < 5:\n",
    "\n",
    "        print(i)"
   ]
  },
  {
   "cell_type": "code",
   "execution_count": null,
   "id": "ee7d2e99",
   "metadata": {},
   "outputs": [],
   "source": []
  }
 ],
 "metadata": {
  "kernelspec": {
   "display_name": "Python 3",
   "language": "python",
   "name": "python3"
  },
  "language_info": {
   "codemirror_mode": {
    "name": "ipython",
    "version": 3
   },
   "file_extension": ".py",
   "mimetype": "text/x-python",
   "name": "python",
   "nbconvert_exporter": "python",
   "pygments_lexer": "ipython3",
   "version": "3.8.8"
  }
 },
 "nbformat": 4,
 "nbformat_minor": 5
}
